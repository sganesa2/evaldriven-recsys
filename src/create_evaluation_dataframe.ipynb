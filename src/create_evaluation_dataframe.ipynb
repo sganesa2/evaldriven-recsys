{
 "cells": [
  {
   "cell_type": "markdown",
   "metadata": {},
   "source": [
    "STEP 1: Preprocess all test.json and op.json files"
   ]
  },
  {
   "cell_type": "code",
   "execution_count": 11,
   "metadata": {},
   "outputs": [],
   "source": [
    "from pathlib import Path\n",
    "path = r\".\\models\\evaluation_pipelines\\json_files\"\n",
    "json_files_path = Path(path)"
   ]
  },
  {
   "cell_type": "code",
   "execution_count": 12,
   "metadata": {},
   "outputs": [],
   "source": [
    "test_json_files = json_files_path.glob(\"test*.json\")\n",
    "op_json_files = json_files_path.glob(\"op*.json\")"
   ]
  },
  {
   "cell_type": "code",
   "execution_count": 13,
   "metadata": {},
   "outputs": [],
   "source": [
    "from models.evaluation_pipelines.utils import preprocess_op_json, preprocess_test_json\n",
    "_test_json_resp = [preprocess_test_json(fp.name) for fp in test_json_files]\n",
    "_op_json_resp = [preprocess_op_json(fp.name) for fp in op_json_files]"
   ]
  },
  {
   "cell_type": "code",
   "execution_count": 14,
   "metadata": {},
   "outputs": [],
   "source": [
    "test_query_products_mapping = {resp['query']:resp['input_products'] for resp in _test_json_resp}\n",
    "op_query_products_mapping = {resp['query']:resp['gold_product_recommendations'] for resp in _op_json_resp}"
   ]
  },
  {
   "cell_type": "code",
   "execution_count": 15,
   "metadata": {},
   "outputs": [],
   "source": [
    "dataset = [{\"query\":query, \"input_products\":products, \"gold_product_recommendations\":op_query_products_mapping[query]} for query, products in test_query_products_mapping.items()]"
   ]
  },
  {
   "cell_type": "code",
   "execution_count": 16,
   "metadata": {},
   "outputs": [],
   "source": [
    "import json\n",
    "with open(json_files_path.joinpath(\"evaluation_dataset.json\"),'w') as file:\n",
    "    json.dump(dataset,file)"
   ]
  },
  {
   "cell_type": "markdown",
   "metadata": {},
   "source": [
    "STEP 2: NDCG Dataset Creation: Use same dataset as above; But use LLM to get relevance scores and update witihn each dataset record"
   ]
  },
  {
   "cell_type": "code",
   "execution_count": 17,
   "metadata": {},
   "outputs": [],
   "source": [
    "from models.rel_score_calculator import RelevanceScoreCalculator\n",
    "\n",
    "from models.llm_modules.ner_model import NERModel\n",
    "from models.llm_modules.product_evaluation_model import RelScoreProductEvaluationsModel\n",
    "\n",
    "ner_model = NERModel(client_type=\"sync\")\n",
    "product_evaluation_model = RelScoreProductEvaluationsModel(client_type=\"sync\")\n",
    "\n",
    "rel_scorer = RelevanceScoreCalculator(\n",
    "    ner_model = ner_model,\n",
    "    product_evaluation_model = product_evaluation_model\n",
    ")"
   ]
  },
  {
   "cell_type": "code",
   "execution_count": 18,
   "metadata": {},
   "outputs": [],
   "source": [
    "def create_ndcg_dataset(dataset:list[dict])->list[dict]:\n",
    "    ndcg_dataset = []\n",
    "    for record in dataset:\n",
    "        query, input_products, retrieved_products = record['query'], record['input_products'], record['gold_product_recommendations']\n",
    "        gold_recs_dict = {prod['product_id']:prod for prod in retrieved_products}\n",
    "        rel_scores = rel_scorer.predict(query,retrieved_products)\n",
    "        \n",
    "        updated_gold_recs = tuple([{**gold_recs_dict[prod['product_id']], \"relevance_score\":prod['relevance_score']} for prod in rel_scores])\n",
    "        ndcg_dataset.append({\"query\":query,\"documents\":input_products, \"gold_product_recommendations\":updated_gold_recs})\n",
    "    return ndcg_dataset"
   ]
  },
  {
   "cell_type": "code",
   "execution_count": 19,
   "metadata": {},
   "outputs": [
    {
     "name": "stdout",
     "output_type": "stream",
     "text": [
      "🍩 https://wandb.ai/srinzz-d2r-ai-labs/groq-weave-experiment/r/call/0194735b-ea0f-74f1-8817-9947d7ee3786\n",
      "🍩 https://wandb.ai/srinzz-d2r-ai-labs/groq-weave-experiment/r/call/0194735b-f3ff-7600-a312-adb7868deee0\n",
      "🍩 https://wandb.ai/srinzz-d2r-ai-labs/groq-weave-experiment/r/call/0194735b-fcea-7452-9f62-91fa3d0d1725\n",
      "🍩 https://wandb.ai/srinzz-d2r-ai-labs/groq-weave-experiment/r/call/0194735c-3dee-7471-acce-0154685f006f\n",
      "🍩 https://wandb.ai/srinzz-d2r-ai-labs/groq-weave-experiment/r/call/0194735c-c014-7363-b062-ca589d25e893\n",
      "🍩 https://wandb.ai/srinzz-d2r-ai-labs/groq-weave-experiment/r/call/0194735d-324f-7342-9d73-690cbccdad1a\n",
      "🍩 https://wandb.ai/srinzz-d2r-ai-labs/groq-weave-experiment/r/call/0194735d-97b3-7501-b75e-4fa0ba673ace\n",
      "🍩 https://wandb.ai/srinzz-d2r-ai-labs/groq-weave-experiment/r/call/0194735e-04ba-7f01-a27d-82224868dbfe\n",
      "🍩 https://wandb.ai/srinzz-d2r-ai-labs/groq-weave-experiment/r/call/0194735e-87c5-77a1-81a2-05af378ac55f\n",
      "🍩 https://wandb.ai/srinzz-d2r-ai-labs/groq-weave-experiment/r/call/0194735e-fd43-7772-969d-2a9e2262626a\n"
     ]
    }
   ],
   "source": [
    "ndcg_dataset = create_ndcg_dataset(dataset)\n",
    "with open(json_files_path.joinpath(\"ndcg_dataset.json\"),'w') as file:\n",
    "    json.dump(ndcg_dataset,file)"
   ]
  }
 ],
 "metadata": {
  "kernelspec": {
   "display_name": ".venv",
   "language": "python",
   "name": "python3"
  },
  "language_info": {
   "codemirror_mode": {
    "name": "ipython",
    "version": 3
   },
   "file_extension": ".py",
   "mimetype": "text/x-python",
   "name": "python",
   "nbconvert_exporter": "python",
   "pygments_lexer": "ipython3",
   "version": "3.11.9"
  }
 },
 "nbformat": 4,
 "nbformat_minor": 2
}
